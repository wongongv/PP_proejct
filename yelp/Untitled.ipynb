{
 "cells": [
  {
   "cell_type": "code",
   "execution_count": 5,
   "metadata": {},
   "outputs": [],
   "source": [
    "from mlrModel import MlrModel\n",
    "from preprocessor import YelpData,load,to_pickle\n",
    "import torch\n",
    "import numpy as np\n"
   ]
  },
  {
   "cell_type": "code",
   "execution_count": 2,
   "metadata": {},
   "outputs": [],
   "source": [
    "# for colab \n",
    "# !pip install pyro-ppl==0.4.1"
   ]
  },
  {
   "cell_type": "code",
   "execution_count": 6,
   "metadata": {},
   "outputs": [],
   "source": [
    "data_class = YelpData()"
   ]
  },
  {
   "cell_type": "code",
   "execution_count": 7,
   "metadata": {},
   "outputs": [],
   "source": [
    "# only for first time \n",
    "# data_class.process()\n",
    "# data = torch.from_numpy(data_class.add_bias().astype(np.float32))\n",
    "# ratings = torch.from_numpy(data_class.ratings.to_numpy().astype(np.float32))\n",
    "# to_pickle(data, 'data')\n",
    "# to_pickle(ratings, 'ratings')\n",
    "# to_pickle(data_class.rest_data, 'rest_data')"
   ]
  },
  {
   "cell_type": "code",
   "execution_count": 11,
   "metadata": {},
   "outputs": [],
   "source": [
    "data = load('data')\n",
    "ratings = load('ratings')\n",
    "rest_data = load('rest_data')"
   ]
  },
  {
   "cell_type": "code",
   "execution_count": null,
   "metadata": {},
   "outputs": [],
   "source": [
    "# for colab\n",
    "# torch.set_default_tensor_type('torch.cuda.FloatTensor')\n",
    "# data = data.cuda()\n",
    "# ratings = ratings.cuda()"
   ]
  },
  {
   "cell_type": "code",
   "execution_count": 15,
   "metadata": {},
   "outputs": [],
   "source": [
    "mlrmodel = MlrModel()\n",
    "model = mlrmodel.model(data,ratings)"
   ]
  },
  {
   "cell_type": "code",
   "execution_count": null,
   "metadata": {},
   "outputs": [],
   "source": [
    "# run mcmc\n",
    "#hmc_beta_dict = mlrmodel.mcmc(data,ratings,mlrmodel.model,mode=\"save\")\n",
    "# load mcmc\n",
    "hmc_beta_dict = load(\"hmc_m_logis_10000\")\n",
    "# run test samples\n",
    "test_samples = mlrmodel.test(hmc_beta_dict,data[:10000],mode=\"save\")\n",
    "# load test samples\n",
    "#test_samples = load(\"mlr_test_samples\")"
   ]
  },
  {
   "cell_type": "code",
   "execution_count": null,
   "metadata": {},
   "outputs": [],
   "source": [
    "#run svi\n",
    "\n",
    "svi = mlrmodel.svi(data,ratings,mlrmodel.model,mlrmodel.guide)"
   ]
  },
  {
   "cell_type": "code",
   "execution_count": null,
   "metadata": {},
   "outputs": [],
   "source": []
  }
 ],
 "metadata": {
  "kernelspec": {
   "display_name": "Python 3",
   "language": "python",
   "name": "python3"
  },
  "language_info": {
   "codemirror_mode": {
    "name": "ipython",
    "version": 3
   },
   "file_extension": ".py",
   "mimetype": "text/x-python",
   "name": "python",
   "nbconvert_exporter": "python",
   "pygments_lexer": "ipython3",
   "version": "3.7.3"
  }
 },
 "nbformat": 4,
 "nbformat_minor": 4
}
