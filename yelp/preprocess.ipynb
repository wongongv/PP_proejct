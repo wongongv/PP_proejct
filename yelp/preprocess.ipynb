{
 "cells": [
  {
   "cell_type": "code",
   "execution_count": 4,
   "metadata": {},
   "outputs": [],
   "source": [
    "import json\n",
    "import pandas as pd\n",
    "import numpy as np"
   ]
  },
  {
   "cell_type": "code",
   "execution_count": 5,
   "metadata": {},
   "outputs": [],
   "source": [
    "business = []\n",
    "for line in open('./yelp_dataset/business.json', 'r'):\n",
    "    business.append(json.loads(line))"
   ]
  },
  {
   "cell_type": "code",
   "execution_count": 3,
   "metadata": {},
   "outputs": [
    {
     "data": {
      "text/plain": [
       "192609"
      ]
     },
     "execution_count": 3,
     "metadata": {},
     "output_type": "execute_result"
    }
   ],
   "source": [
    "# len(business)"
   ]
  },
  {
   "cell_type": "code",
   "execution_count": 6,
   "metadata": {},
   "outputs": [],
   "source": [
    "bus_json = {\"business\":business}\n",
    "df = pd.DataFrame(bus_json['business'])"
   ]
  },
  {
   "cell_type": "code",
   "execution_count": 7,
   "metadata": {},
   "outputs": [],
   "source": [
    "test = df['categories'].to_numpy()\n",
    "number = set()\n",
    "idxs = []\n",
    "for i in range(len(df)):\n",
    "    sen = df.iloc[i]\n",
    "    if sen['categories'] is None:\n",
    "        continue\n",
    "    elif 'Restaurants' in sen['categories'] and 'Food' in sen['categories']:\n",
    "        number.update(sen['categories'].split(\", \"))\n",
    "        idxs.append(sen.name)\n",
    "    \n",
    "rest_data = df.iloc[idxs]"
   ]
  },
  {
   "cell_type": "code",
   "execution_count": 14,
   "metadata": {},
   "outputs": [],
   "source": [
    "cat_list = list(number)\n",
    "cat_list.remove('Restaurants')\n",
    "cat_list.remove('Food')\n",
    "cat_one_hot = np.zeros((len(rest_data),len(cat_list)))\n",
    "for i in range(len(rest_data)):\n",
    "    l = rest_data.iloc[i]\n",
    "    c_col = l['categories']\n",
    "    if c_col != None:\n",
    "        cats = [c for c in c_col.split(', ')]\n",
    "        for c in cats:\n",
    "            if c != 'Restaurants' and c != 'Food':\n",
    "                cat_one_hot[i][cat_list.index(c)] = 1"
   ]
  },
  {
   "cell_type": "code",
   "execution_count": 48,
   "metadata": {},
   "outputs": [],
   "source": [
    "# cat_rest = dict()\n",
    "# for l in df['categories']:\n",
    "#     if l != None:\n",
    "#         cats = [c for c in l.split(', ')]\n",
    "#         if 'Restaurants' in cats and 'Food' in cats:\n",
    "#             for c in cats:\n",
    "#                 if c in cat_rest:\n",
    "#                     cat_rest[c]+= 1\n",
    "#                 else:\n",
    "#                     cat_rest[c] = 1"
   ]
  },
  {
   "cell_type": "code",
   "execution_count": 60,
   "metadata": {},
   "outputs": [],
   "source": [
    "# cat_rest_dedup = dict()\n",
    "# for i in range(len(df)):\n",
    "#     l = df.iloc[i]\n",
    "#     c_col = l['categories']\n",
    "#     if c_col != None:\n",
    "#         cats = [c for c in c_col.split(', ')]\n",
    "#         if 'Restaurants' in cats and 'Food' in cats:\n",
    "#             for c in cats:\n",
    "#                 if c in cat_rest_dedup:\n",
    "#                     cat_rest_dedup[c].add(i)\n",
    "#                 else:\n",
    "#                     cat_rest_dedup[c] = set()\n",
    "#                     cat_rest_dedup[c].add(i)"
   ]
  },
  {
   "cell_type": "code",
   "execution_count": 42,
   "metadata": {},
   "outputs": [],
   "source": [
    "class YelpData:\n",
    "    def __init__(self):\n",
    "        self.rest_data = None\n",
    "        self.categories = None\n",
    "        self.ratings = None\n",
    "        self.cat_one_hot = None\n",
    "        \n",
    "\n",
    "    def process(self):\n",
    "        # load json file to dataframe\n",
    "        business = []\n",
    "        for line in open('./yelp_dataset/business.json', 'r'):\n",
    "            business.append(json.loads(line))\n",
    "        bus_json = {\"business\":business}\n",
    "        df = pd.DataFrame(bus_json['business'])\n",
    "\n",
    "        # extract restaurants\n",
    "        number = set()\n",
    "        idxs = []\n",
    "        for i in range(len(df)):\n",
    "            sen = df.iloc[i]\n",
    "            if sen['categories'] is None:\n",
    "                continue\n",
    "            elif 'Restaurants' in sen['categories'] and 'Food' in sen['categories']:\n",
    "                number.update(sen['categories'].split(\", \"))\n",
    "                idxs.append(sen.name)\n",
    "        rest_data = df.iloc[idxs]\n",
    "        cat_list = list(number)\n",
    "\n",
    "        # one hot encoder\n",
    "        cat_one_hot = np.zeros((len(rest_data),len(cat_list)))\n",
    "        for i in range(len(rest_data)):\n",
    "            l = rest_data.iloc[i]\n",
    "            c_col = l['categories']\n",
    "            if c_col != None:\n",
    "                cats = [c for c in c_col.split(', ')]\n",
    "                for c in cats:\n",
    "                    cat_one_hot[i][cat_list.index(c)] = 1\n",
    "\n",
    "        self.rest_data = rest_data\n",
    "        self.categories = cat_list\n",
    "        self.ratings = rest_data['stars']\n",
    "        self.cat_one_hot = cat_one_hot\n",
    "        \n",
    "    def add_bias(self):\n",
    "        cat_one_hot_bias = np.ones((self.cat_one_hot.shape[0],self.cat_one_hot.shape[1]+1))\n",
    "        for i in range(len(cat_one_hot_bias)):\n",
    "            encoded_cats = self.cat_one_hot[i]\n",
    "            cat_one_hot_bias[i][:len(encoded_cats)] = encoded_cats\n",
    "        return cat_one_hot_bias"
   ]
  },
  {
   "cell_type": "code",
   "execution_count": 18,
   "metadata": {},
   "outputs": [],
   "source": [
    "# adding feature test\n",
    "import json\n",
    "import pandas as pd\n",
    "import numpy as np\n",
    "import pickle\n",
    "\n",
    "class YelpData:\n",
    "    def __init__(self):\n",
    "        self.rest_data = None\n",
    "        self.categories = None\n",
    "        self.ratings = None\n",
    "        self.cat_one_hot = None\n",
    "        self.index_length = None\n",
    "\n",
    "    def process(self):\n",
    "        # load json file to dataframe\n",
    "        business = []\n",
    "        for line in open('./yelp_dataset/business.json', 'r'):\n",
    "            business.append(json.loads(line))\n",
    "        bus_json = {\"business\":business}\n",
    "        df = pd.DataFrame(bus_json['business'])\n",
    "\n",
    "        # extract restaurants\n",
    "        cities = set()\n",
    "#         self.codes = set()\n",
    "        number = set()\n",
    "        idxs = []\n",
    "        for i in range(len(df)):\n",
    "            sen = df.iloc[i]\n",
    "            if sen['categories'] is None:\n",
    "                continue\n",
    "            elif 'Restaurants' in sen['categories'] and 'Food' in sen['categories']:\n",
    "                number.update(sen['categories'].split(\", \"))\n",
    "                cities.add(sen['city'])\n",
    "#                 codes.add(sen['postal_code'])\n",
    "                idxs.append(sen.name)\n",
    "        rest_data = df.iloc[idxs]\n",
    "        cat_list = list(cities) + list(number)\n",
    "        cat_list.remove('Restaurants')\n",
    "        cat_list.remove('Food')\n",
    "        self.index_length = len(cat_list)\n",
    "        \n",
    "        word_to_index = {w:i for i,w in enumerate(cat_list)}\n",
    "        # one hot encoder\n",
    "        cat_one_hot = np.zeros((len(rest_data), self.index_length))\n",
    "        for i in range(len(rest_data)):\n",
    "            put_city = False\n",
    "            l = rest_data.iloc[i]\n",
    "            c_col = l['categories']\n",
    "            if c_col != None:\n",
    "                cats = c_col.split(', ')\n",
    "#                 cats = [c for c in c_col.split(', ')]\n",
    "                for c in cats:\n",
    "                    if c != 'Restaurants' and c != 'Food':\n",
    "                        cat_one_hot[i][word_to_index[c]] = 1\n",
    "                        put_city =True\n",
    "                if put_city:\n",
    "                    cat_one_hot[i][word_to_index[l['city']]]\n",
    "                \n",
    "                \n",
    "                \n",
    "        self.rest_data = rest_data\n",
    "        self.categories = cat_list\n",
    "#         self.cat_index = {j:i for i,j in enumerate(cat_list)}\n",
    "        self.ratings = rest_data['stars']\n",
    "        self.cat_one_hot = cat_one_hot\n",
    "        \n",
    "    def add_bias(self):\n",
    "        bias = np.ones([self.cat_one_hot.shape[0],1])\n",
    "        cat_one_hot_bias = np.concatenate([self.cat_one_hot, bias], axis = 1)\n",
    "#         cat_one_hot_bias = np.ones((self.cat_one_hot.shape[0],self.cat_one_hot.shape[1]+1))\n",
    "#         for i in range(len(cat_one_hot_bias)):\n",
    "#             encoded_cats = self.cat_one_hot[i]\n",
    "#             cat_one_hot_bias[i][:len(encoded_cats)] = encoded_cats\n",
    "        return cat_one_hot_bias\n",
    "    \n",
    "    def to_pickle(self, data, name):\n",
    "        with open(name, \"wb\") as f:\n",
    "            pickle.dump(data, f)\n",
    "    \n",
    "    def load(self, name):\n",
    "        with open(name, \"rb\") as f:\n",
    "            data = pickle.load(f)\n",
    "        return data\n",
    "    \n",
    "    def get_vector(self, cats, index_list = None):\n",
    "        if index_list:\n",
    "            res = np.zeros([1, len(index_list) + 1])\n",
    "            for w in cats:\n",
    "                res[0][index_list[w]] = 1\n",
    "\n",
    "        else:\n",
    "            res = np.zeros([1,self.index_length + 1])\n",
    "            for w in cats:\n",
    "                res[0][self.cat_index[w]] = 1\n",
    "        #adding bias\n",
    "        res[0][-1] = 1\n",
    "        return res"
   ]
  },
  {
   "cell_type": "code",
   "execution_count": 19,
   "metadata": {},
   "outputs": [],
   "source": [
    "df = YelpData()\n",
    "df.process()\n",
    "# cat_one_hot_bias = dt.add_bias()"
   ]
  },
  {
   "cell_type": "code",
   "execution_count": 20,
   "metadata": {},
   "outputs": [
    {
     "name": "stdout",
     "output_type": "stream",
     "text": [
      "> <ipython-input-18-869811bff17a>(77)add_bias()\n",
      "-> return cat_one_hot_bias\n"
     ]
    },
    {
     "name": "stdin",
     "output_type": "stream",
     "text": [
      "(Pdb)  cat_one_hot_bias.shape\n"
     ]
    },
    {
     "name": "stdout",
     "output_type": "stream",
     "text": [
      "(21311, 1067)\n"
     ]
    },
    {
     "name": "stdin",
     "output_type": "stream",
     "text": [
      "(Pdb)  ts = cat_one_hot_bias\n",
      "(Pdb)  ts\n"
     ]
    },
    {
     "name": "stdout",
     "output_type": "stream",
     "text": [
      "array([[0., 0., 0., ..., 0., 0., 1.],\n",
      "       [0., 0., 0., ..., 0., 0., 1.],\n",
      "       [0., 0., 0., ..., 0., 0., 1.],\n",
      "       ...,\n",
      "       [0., 0., 0., ..., 0., 0., 1.],\n",
      "       [0., 0., 0., ..., 0., 0., 1.],\n",
      "       [0., 0., 0., ..., 0., 0., 1.]])\n"
     ]
    },
    {
     "name": "stdin",
     "output_type": "stream",
     "text": [
      "(Pdb)  np.sum(ts,axis = 0)[-1]\n"
     ]
    },
    {
     "name": "stdout",
     "output_type": "stream",
     "text": [
      "21311.0\n"
     ]
    },
    {
     "name": "stdin",
     "output_type": "stream",
     "text": [
      "(Pdb)  exit\n"
     ]
    },
    {
     "ename": "BdbQuit",
     "evalue": "",
     "output_type": "error",
     "traceback": [
      "\u001b[0;31m---------------------------------------------------------------------------\u001b[0m",
      "\u001b[0;31mBdbQuit\u001b[0m                                   Traceback (most recent call last)",
      "\u001b[0;32m<ipython-input-20-100c3804c52b>\u001b[0m in \u001b[0;36m<module>\u001b[0;34m\u001b[0m\n\u001b[0;32m----> 1\u001b[0;31m \u001b[0mres\u001b[0m \u001b[0;34m=\u001b[0m \u001b[0mdf\u001b[0m\u001b[0;34m.\u001b[0m\u001b[0madd_bias\u001b[0m\u001b[0;34m(\u001b[0m\u001b[0;34m)\u001b[0m\u001b[0;34m\u001b[0m\u001b[0;34m\u001b[0m\u001b[0m\n\u001b[0m",
      "\u001b[0;32m<ipython-input-18-869811bff17a>\u001b[0m in \u001b[0;36madd_bias\u001b[0;34m(self)\u001b[0m\n\u001b[1;32m     75\u001b[0m \u001b[0;31m#             encoded_cats = self.cat_one_hot[i]\u001b[0m\u001b[0;34m\u001b[0m\u001b[0;34m\u001b[0m\u001b[0;34m\u001b[0m\u001b[0m\n\u001b[1;32m     76\u001b[0m \u001b[0;31m#             cat_one_hot_bias[i][:len(encoded_cats)] = encoded_cats\u001b[0m\u001b[0;34m\u001b[0m\u001b[0;34m\u001b[0m\u001b[0;34m\u001b[0m\u001b[0m\n\u001b[0;32m---> 77\u001b[0;31m         \u001b[0;32mreturn\u001b[0m \u001b[0mcat_one_hot_bias\u001b[0m\u001b[0;34m\u001b[0m\u001b[0;34m\u001b[0m\u001b[0m\n\u001b[0m\u001b[1;32m     78\u001b[0m \u001b[0;34m\u001b[0m\u001b[0m\n\u001b[1;32m     79\u001b[0m     \u001b[0;32mdef\u001b[0m \u001b[0mto_pickle\u001b[0m\u001b[0;34m(\u001b[0m\u001b[0mself\u001b[0m\u001b[0;34m,\u001b[0m \u001b[0mdata\u001b[0m\u001b[0;34m,\u001b[0m \u001b[0mname\u001b[0m\u001b[0;34m)\u001b[0m\u001b[0;34m:\u001b[0m\u001b[0;34m\u001b[0m\u001b[0;34m\u001b[0m\u001b[0m\n",
      "\u001b[0;32m<ipython-input-18-869811bff17a>\u001b[0m in \u001b[0;36madd_bias\u001b[0;34m(self)\u001b[0m\n\u001b[1;32m     75\u001b[0m \u001b[0;31m#             encoded_cats = self.cat_one_hot[i]\u001b[0m\u001b[0;34m\u001b[0m\u001b[0;34m\u001b[0m\u001b[0;34m\u001b[0m\u001b[0m\n\u001b[1;32m     76\u001b[0m \u001b[0;31m#             cat_one_hot_bias[i][:len(encoded_cats)] = encoded_cats\u001b[0m\u001b[0;34m\u001b[0m\u001b[0;34m\u001b[0m\u001b[0;34m\u001b[0m\u001b[0m\n\u001b[0;32m---> 77\u001b[0;31m         \u001b[0;32mreturn\u001b[0m \u001b[0mcat_one_hot_bias\u001b[0m\u001b[0;34m\u001b[0m\u001b[0;34m\u001b[0m\u001b[0m\n\u001b[0m\u001b[1;32m     78\u001b[0m \u001b[0;34m\u001b[0m\u001b[0m\n\u001b[1;32m     79\u001b[0m     \u001b[0;32mdef\u001b[0m \u001b[0mto_pickle\u001b[0m\u001b[0;34m(\u001b[0m\u001b[0mself\u001b[0m\u001b[0;34m,\u001b[0m \u001b[0mdata\u001b[0m\u001b[0;34m,\u001b[0m \u001b[0mname\u001b[0m\u001b[0;34m)\u001b[0m\u001b[0;34m:\u001b[0m\u001b[0;34m\u001b[0m\u001b[0;34m\u001b[0m\u001b[0m\n",
      "\u001b[0;32m~/anaconda3/envs/pp/lib/python3.7/bdb.py\u001b[0m in \u001b[0;36mtrace_dispatch\u001b[0;34m(self, frame, event, arg)\u001b[0m\n\u001b[1;32m     86\u001b[0m             \u001b[0;32mreturn\u001b[0m \u001b[0;31m# None\u001b[0m\u001b[0;34m\u001b[0m\u001b[0;34m\u001b[0m\u001b[0m\n\u001b[1;32m     87\u001b[0m         \u001b[0;32mif\u001b[0m \u001b[0mevent\u001b[0m \u001b[0;34m==\u001b[0m \u001b[0;34m'line'\u001b[0m\u001b[0;34m:\u001b[0m\u001b[0;34m\u001b[0m\u001b[0;34m\u001b[0m\u001b[0m\n\u001b[0;32m---> 88\u001b[0;31m             \u001b[0;32mreturn\u001b[0m \u001b[0mself\u001b[0m\u001b[0;34m.\u001b[0m\u001b[0mdispatch_line\u001b[0m\u001b[0;34m(\u001b[0m\u001b[0mframe\u001b[0m\u001b[0;34m)\u001b[0m\u001b[0;34m\u001b[0m\u001b[0;34m\u001b[0m\u001b[0m\n\u001b[0m\u001b[1;32m     89\u001b[0m         \u001b[0;32mif\u001b[0m \u001b[0mevent\u001b[0m \u001b[0;34m==\u001b[0m \u001b[0;34m'call'\u001b[0m\u001b[0;34m:\u001b[0m\u001b[0;34m\u001b[0m\u001b[0;34m\u001b[0m\u001b[0m\n\u001b[1;32m     90\u001b[0m             \u001b[0;32mreturn\u001b[0m \u001b[0mself\u001b[0m\u001b[0;34m.\u001b[0m\u001b[0mdispatch_call\u001b[0m\u001b[0;34m(\u001b[0m\u001b[0mframe\u001b[0m\u001b[0;34m,\u001b[0m \u001b[0marg\u001b[0m\u001b[0;34m)\u001b[0m\u001b[0;34m\u001b[0m\u001b[0;34m\u001b[0m\u001b[0m\n",
      "\u001b[0;32m~/anaconda3/envs/pp/lib/python3.7/bdb.py\u001b[0m in \u001b[0;36mdispatch_line\u001b[0;34m(self, frame)\u001b[0m\n\u001b[1;32m    111\u001b[0m         \u001b[0;32mif\u001b[0m \u001b[0mself\u001b[0m\u001b[0;34m.\u001b[0m\u001b[0mstop_here\u001b[0m\u001b[0;34m(\u001b[0m\u001b[0mframe\u001b[0m\u001b[0;34m)\u001b[0m \u001b[0;32mor\u001b[0m \u001b[0mself\u001b[0m\u001b[0;34m.\u001b[0m\u001b[0mbreak_here\u001b[0m\u001b[0;34m(\u001b[0m\u001b[0mframe\u001b[0m\u001b[0;34m)\u001b[0m\u001b[0;34m:\u001b[0m\u001b[0;34m\u001b[0m\u001b[0;34m\u001b[0m\u001b[0m\n\u001b[1;32m    112\u001b[0m             \u001b[0mself\u001b[0m\u001b[0;34m.\u001b[0m\u001b[0muser_line\u001b[0m\u001b[0;34m(\u001b[0m\u001b[0mframe\u001b[0m\u001b[0;34m)\u001b[0m\u001b[0;34m\u001b[0m\u001b[0;34m\u001b[0m\u001b[0m\n\u001b[0;32m--> 113\u001b[0;31m             \u001b[0;32mif\u001b[0m \u001b[0mself\u001b[0m\u001b[0;34m.\u001b[0m\u001b[0mquitting\u001b[0m\u001b[0;34m:\u001b[0m \u001b[0;32mraise\u001b[0m \u001b[0mBdbQuit\u001b[0m\u001b[0;34m\u001b[0m\u001b[0;34m\u001b[0m\u001b[0m\n\u001b[0m\u001b[1;32m    114\u001b[0m         \u001b[0;32mreturn\u001b[0m \u001b[0mself\u001b[0m\u001b[0;34m.\u001b[0m\u001b[0mtrace_dispatch\u001b[0m\u001b[0;34m\u001b[0m\u001b[0;34m\u001b[0m\u001b[0m\n\u001b[1;32m    115\u001b[0m \u001b[0;34m\u001b[0m\u001b[0m\n",
      "\u001b[0;31mBdbQuit\u001b[0m: "
     ]
    }
   ],
   "source": [
    "res = df.add_bias()"
   ]
  },
  {
   "cell_type": "code",
   "execution_count": null,
   "metadata": {},
   "outputs": [],
   "source": []
  }
 ],
 "metadata": {
  "kernelspec": {
   "display_name": "Python 3",
   "language": "python",
   "name": "python3"
  },
  "language_info": {
   "codemirror_mode": {
    "name": "ipython",
    "version": 3
   },
   "file_extension": ".py",
   "mimetype": "text/x-python",
   "name": "python",
   "nbconvert_exporter": "python",
   "pygments_lexer": "ipython3",
   "version": "3.7.3"
  }
 },
 "nbformat": 4,
 "nbformat_minor": 4
}
