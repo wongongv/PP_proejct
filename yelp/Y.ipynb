{
 "cells": [
  {
   "cell_type": "code",
   "execution_count": 30,
   "metadata": {},
   "outputs": [],
   "source": [
    "import torch\n",
    "import pyro\n",
    "import pyro.distributions as dist\n",
    "import pyro.optim as optim\n",
    "from pyro.infer import EmpiricalMarginal, SVI, Trace_ELBO, JitTrace_ELBO\n",
    "import pandas as pd\n",
    "from torch.distributions import constraints\n",
    "from pyro.infer.mcmc.api import MCMC\n",
    "from pyro.infer.mcmc import NUTS\n",
    "import matplotlib.pyplot as plt\n",
    "import seaborn as sns\n",
    "import numpy as np"
   ]
  },
  {
   "cell_type": "code",
   "execution_count": 31,
   "metadata": {},
   "outputs": [],
   "source": [
    "dict_rest = pd.read_pickle(\"./data/crawled_data.pickle\")"
   ]
  },
  {
   "cell_type": "code",
   "execution_count": 56,
   "metadata": {},
   "outputs": [],
   "source": [
    "# organize data \n",
    "ids = [d[\"id\"] for d in dict_rest]\n",
    "names = [d[\"name\"] for d in dict_rest]\n",
    "lats = [d[\"coordinates\"][\"lat\"] for d in dict_rest]\n",
    "lngs = [d[\"coordinates\"][\"lng\"] for d in dict_rest]\n",
    "ratings = [ d[\"rating\"] for d in dict_rest]\n",
    "#taking log\n",
    "rating_ns = np.log([d[\"rating_n\"] for d in dict_rest])\n",
    "populartimes = [ d[\"populartimes\"] for d in dict_rest]\n",
    "poptime_sat = [ d[5]['data'] for d in populartimes]\n",
    "poptime_sat_12 = [d[12] for d in poptime_sat]"
   ]
  },
  {
   "cell_type": "code",
   "execution_count": 57,
   "metadata": {},
   "outputs": [],
   "source": [
    "selected_data = {'ids':ids,'names':names,'lats':lats,'lngs':lngs,\\\n",
    "                 'ratings':ratings,'rating_ns':rating_ns,'poptime_sat_12':poptime_sat_12}\n",
    "df = pd.DataFrame(selected_data)\n",
    "df_model = df[['ratings','rating_ns','poptime_sat_12']]\n",
    "train_data = torch.tensor(df_model.values, dtype = torch.float)\n",
    "rating, rating_ns, popularity = train_data[:, 0], torch.log(train_data[:,1]), train_data[:,2]"
   ]
  },
  {
   "cell_type": "code",
   "execution_count": 58,
   "metadata": {},
   "outputs": [],
   "source": [
    "# #Tested whether SVI runs correctly, and it did.\n",
    "# rating = torch.rand(30)\n",
    "# test_dist = dist.Poisson(torch.exp(rating.sum() + 1))\n",
    "# popularity = torch.tensor([test_dist.sample() for i in range(len(rating))], dtype = torch.float)"
   ]
  },
  {
   "cell_type": "code",
   "execution_count": 59,
   "metadata": {},
   "outputs": [],
   "source": [
    "def model(data, ratings):\n",
    "    betas = []\n",
    "\n",
    "    #bias\n",
    "    betas.append(pyro.sample(\"beta_0\", dist.Normal(0, 1)))\n",
    "    #make one-hot vector length betas\n",
    "    for i in range(len(data)):\n",
    "        betas.append(pyro.sample(\"beta_{}\".format(i + 1), dist.Normal(0, 1)))\n",
    "\n",
    "    betas = np.array(betas, dtype = object)\n",
    "    lambda_ = torch.exp(betas * data)\n",
    "    \n",
    "    with pyro.plate(\"ratings\", len(popularity)):\n",
    "        y = pyro.sample(\"obs\", dist.Poisson(lambda_), obs = ratings)\n",
    "    \n",
    "    return y"
   ]
  },
  {
   "cell_type": "code",
   "execution_count": 62,
   "metadata": {},
   "outputs": [],
   "source": [
    "# def guide(rating, rating_ns, popularity):\n",
    "#     weights_loc = pyro.param('weights_loc', torch.randn(3))\n",
    "#     weights_scale = pyro.param('weights_scale', torch.ones(3), constraint=constraints.positive)        \n",
    "# #     weights_loc = pyro.param('weights_loc', torch.randn(2))\n",
    "# #     weights_scale = pyro.param('weights_scale', torch.ones(2), constraint=constraints.positive)        \n",
    "\n",
    "    \n",
    "#     beta_0 = pyro.sample(\"beta_0\", dist.Normal(weights_loc[0], weights_scale[0]))\n",
    "#     beta_1 = pyro.sample(\"beta_1\", dist.Normal(weights_loc[1], weights_scale[1]))\n",
    "#     beta_2 = pyro.sample(\"beta_2\", dist.Normal(weights_loc[2], weights_scale[2]))\n",
    "#     labmda_ = torch.exp(beta_0 + beta_1 * rating + beta_2 * rating_ns)\n",
    "# #     labmda_ = torch.exp(beta_0 + beta_1 * rating)\n",
    "\n",
    "# guide = pyro.infer.autoguide.AutoDiagonalNormal(model)\n",
    "guide = pyro.infer.autoguide.AutoMultivariateNormal(model)"
   ]
  },
  {
   "cell_type": "code",
   "execution_count": 63,
   "metadata": {},
   "outputs": [
    {
     "name": "stderr",
     "output_type": "stream",
     "text": [
      "/Users/wonjunson/anaconda3/envs/pp/lib/python3.7/site-packages/ipykernel_launcher.py:8: TracerWarning: Converting a tensor to a Python index might cause the trace to be incorrect. We can't record the data flow of Python values, so this value will be treated as a constant in the future. This means that the trace might not generalize to other inputs!\n",
      "  \n"
     ]
    },
    {
     "name": "stdout",
     "output_type": "stream",
     "text": [
      "189419.453125\n",
      "188948.203125\n",
      "34330.90625\n",
      "235226.765625\n",
      "54054.26953125\n",
      "76167.7421875\n",
      "94264.296875\n",
      "82095.7890625\n",
      "67832.1015625\n",
      "35152.9765625\n",
      "18433.05078125\n",
      "10774.3125\n",
      "15262.83203125\n",
      "70422.390625\n",
      "9855.8173828125\n",
      "9606.08203125\n",
      "10324.0419921875\n",
      "10948.9326171875\n",
      "10629.529296875\n",
      "9985.5615234375\n",
      "9885.2890625\n",
      "9539.390625\n",
      "10016.080078125\n",
      "9368.796875\n",
      "9449.01171875\n",
      "9624.943359375\n",
      "9442.1884765625\n",
      "9588.521484375\n",
      "9390.576171875\n",
      "9390.4677734375\n",
      "9835.7666015625\n",
      "9402.53125\n",
      "9493.5478515625\n",
      "10512.8681640625\n",
      "9546.017578125\n",
      "9371.4443359375\n",
      "9364.73828125\n",
      "9366.73828125\n",
      "9410.8701171875\n",
      "9340.99609375\n",
      "9390.248046875\n",
      "9356.5390625\n",
      "9400.7412109375\n",
      "9397.7919921875\n",
      "9336.392578125\n",
      "9346.869140625\n",
      "9355.7373046875\n",
      "9330.203125\n",
      "9339.470703125\n",
      "9340.728515625\n",
      "9342.494140625\n",
      "9338.3994140625\n",
      "9340.7470703125\n",
      "9341.69921875\n",
      "9335.6025390625\n",
      "9391.947265625\n",
      "9335.5556640625\n",
      "9340.63671875\n",
      "9333.3466796875\n",
      "9336.4208984375\n",
      "9476.3017578125\n",
      "9331.9423828125\n",
      "9354.458984375\n",
      "9333.8203125\n",
      "9334.7333984375\n",
      "9331.8349609375\n",
      "9332.423828125\n",
      "9331.5517578125\n",
      "9331.8203125\n",
      "9338.740234375\n",
      "9332.3779296875\n",
      "9333.08984375\n",
      "9337.8056640625\n",
      "9330.22265625\n",
      "9470.9375\n",
      "9332.259765625\n",
      "9332.7021484375\n",
      "9529.1240234375\n",
      "9332.556640625\n",
      "9333.9013671875\n",
      "9333.9765625\n",
      "9332.8828125\n",
      "9333.1181640625\n",
      "9334.033203125\n",
      "9332.7646484375\n",
      "9355.7001953125\n",
      "9333.681640625\n",
      "9333.5859375\n",
      "9332.9052734375\n",
      "9333.982421875\n",
      "9334.013671875\n",
      "9333.0947265625\n",
      "9333.5166015625\n",
      "9333.626953125\n",
      "9386.7666015625\n",
      "9340.78125\n",
      "9332.1298828125\n",
      "9332.1552734375\n",
      "9348.6640625\n",
      "9336.5380859375\n",
      "9332.8935546875\n",
      "9343.5791015625\n",
      "9333.0283203125\n",
      "9332.900390625\n",
      "9332.5771484375\n",
      "9333.888671875\n",
      "9332.65234375\n",
      "9337.4072265625\n",
      "9339.5078125\n",
      "9333.7255859375\n",
      "9332.8896484375\n",
      "9332.9892578125\n",
      "9336.53125\n",
      "9332.892578125\n",
      "9346.3056640625\n",
      "9333.98828125\n",
      "9333.900390625\n",
      "9334.556640625\n",
      "10227.365234375\n",
      "9332.6201171875\n",
      "9340.0234375\n",
      "9349.587890625\n",
      "9333.5283203125\n",
      "9332.9765625\n",
      "9945.916015625\n",
      "9334.01953125\n",
      "9333.00390625\n",
      "9336.197265625\n",
      "9334.0244140625\n",
      "9333.537109375\n",
      "9334.9462890625\n",
      "9332.193359375\n",
      "9339.94921875\n",
      "9334.0478515625\n",
      "9332.7705078125\n",
      "9334.52734375\n",
      "9352.24609375\n",
      "9334.6376953125\n",
      "9333.2041015625\n",
      "9352.7822265625\n",
      "9335.146484375\n",
      "9334.8349609375\n",
      "9335.3994140625\n",
      "9333.3291015625\n",
      "9331.6259765625\n",
      "9334.15625\n",
      "9333.310546875\n",
      "9332.0595703125\n",
      "9332.69921875\n",
      "9334.689453125\n",
      "9333.08203125\n",
      "9331.62890625\n",
      "9333.384765625\n",
      "9333.9345703125\n",
      "9710.1337890625\n",
      "9332.84765625\n",
      "9332.8623046875\n",
      "9333.1767578125\n",
      "9336.5654296875\n",
      "9334.236328125\n",
      "9339.4658203125\n",
      "9332.552734375\n",
      "9335.697265625\n",
      "9332.46484375\n",
      "9332.84765625\n",
      "9363.591796875\n",
      "9333.0244140625\n",
      "9332.568359375\n",
      "9330.4326171875\n",
      "9334.451171875\n",
      "9332.802734375\n",
      "9336.7734375\n",
      "9334.4697265625\n",
      "9335.021484375\n",
      "9334.05078125\n",
      "9332.380859375\n",
      "9327.9755859375\n",
      "9340.634765625\n",
      "9345.4375\n",
      "9337.1142578125\n",
      "9339.134765625\n",
      "9331.9482421875\n",
      "9333.35546875\n",
      "9333.3798828125\n",
      "9333.0498046875\n",
      "9335.3984375\n",
      "9333.830078125\n",
      "9332.3388671875\n",
      "9333.2001953125\n",
      "9333.7119140625\n",
      "9334.80859375\n",
      "9335.7001953125\n",
      "9333.083984375\n",
      "9333.30859375\n",
      "9336.93359375\n",
      "9335.4091796875\n",
      "9334.0830078125\n",
      "9337.265625\n",
      "9333.4306640625\n",
      "9391.236328125\n"
     ]
    }
   ],
   "source": [
    "svi = SVI(model, \n",
    "          guide, \n",
    "          optim.Adam({\"lr\": .005}), \n",
    "          loss=JitTrace_ELBO(), \n",
    "          num_samples=1000)\n",
    "\n",
    "pyro.clear_param_store()\n",
    "epoch = 10000\n",
    "for i in range(epoch):\n",
    "    ELBO = svi.step(rating, rating_ns, popularity)\n",
    "    if i % 500 == 0:\n",
    "        print(ELBO)\n",
    "posterior = svi.run(rating, rating_ns, popularity)\n"
   ]
  },
  {
   "cell_type": "code",
   "execution_count": 9,
   "metadata": {},
   "outputs": [
    {
     "name": "stderr",
     "output_type": "stream",
     "text": [
      "sample: 100%|██████████| 1200/1200 [01:31<00:00, 13.17it/s, step size=5.71e-02, acc. prob=0.922]\n"
     ]
    }
   ],
   "source": [
    "nuts_kernel = NUTS(model)\n",
    "\n",
    "mcmc = MCMC(nuts_kernel, num_samples=1000, warmup_steps=200)\n",
    "mcmc.run(rating, rating_ns, popularity)\n",
    "\n",
    "hmc_samples = {k: v.detach().cpu().numpy() for k, v in mcmc.get_samples().items()}"
   ]
  },
  {
   "cell_type": "code",
   "execution_count": 10,
   "metadata": {},
   "outputs": [],
   "source": [
    "# Utility function to print latent sites' quantile information.\n",
    "def summary(samples):\n",
    "    site_stats = {}\n",
    "    for site_name, values in samples.items():\n",
    "        marginal_site = pd.DataFrame(values)\n",
    "        describe = marginal_site.describe(percentiles=[.05, 0.25, 0.5, 0.75, 0.95]).transpose()\n",
    "        site_stats[site_name] = describe[[\"mean\", \"std\", \"5%\", \"25%\", \"50%\", \"75%\", \"95%\"]]\n",
    "    return site_stats\n"
   ]
  },
  {
   "cell_type": "code",
   "execution_count": 16,
   "metadata": {},
   "outputs": [
    {
     "name": "stdout",
     "output_type": "stream",
     "text": [
      "Site: beta_0\n",
      "       mean       std        5%      25%       50%       75%       95%\n",
      "0  2.516612  0.007422  2.504562  2.51175  2.516841  2.521283  2.528724 \n",
      "\n",
      "Site: beta_1\n",
      "       mean       std       5%       25%       50%       75%       95%\n",
      "0 -0.124756  0.001868 -0.12784 -0.125988 -0.124778 -0.123518 -0.121681 \n",
      "\n",
      "Site: beta_2\n",
      "     mean       std        5%      25%       50%       75%       95%\n",
      "0  0.2374  0.001166  0.235513  0.23664  0.237381  0.238175  0.239374 \n",
      "\n"
     ]
    }
   ],
   "source": [
    "\n",
    "svi_diagnorm_posterior = svi.run(rating,rating_ns,popularity)\n",
    "sites = [\"beta_0\", \"beta_1\",\"beta_2\"]\n",
    "\n",
    "svi_samples = {site: EmpiricalMarginal(svi_diagnorm_posterior, sites=site)\n",
    "                     .enumerate_support().detach().cpu().numpy()\n",
    "               for site in sites}\n",
    "for site, values in summary(svi_samples).items():\n",
    "    print(\"Site: {}\".format(site))\n",
    "    print(values, \"\\n\")"
   ]
  },
  {
   "cell_type": "code",
   "execution_count": 27,
   "metadata": {},
   "outputs": [
    {
     "data": {
      "image/png": "[encoded data removed]",
      "text/plain": [
       "<Figure size 1296x360 with 3 Axes>"
      ]
     },
     "metadata": {
      "needs_background": "light"
     },
     "output_type": "display_data"
    }
   ],
   "source": [
    "fig, axs = plt.subplots(nrows=1, ncols=3, figsize=(18, 5))\n",
    "fig.suptitle(\"Posterior Distribution\", fontsize=16)\n",
    "for i, ax in enumerate(axs.reshape(-1)):\n",
    "    try:\n",
    "        site = sites[i]\n",
    "        sns.distplot(hmc_samples[site], ax=ax, label=\"HMC\")        \n",
    "        sns.distplot(svi_samples[site], ax=ax, label=\"SVI\")\n",
    "        ax.set_title(site)\n",
    "    except:\n",
    "        pass\n",
    "handles, labels = ax.get_legend_handles_labels()\n",
    "fig.legend(handles, labels, loc='upper right');"
   ]
  },
  {
   "cell_type": "code",
   "execution_count": 65,
   "metadata": {},
   "outputs": [],
   "source": [
    "# #MLE\n",
    "\n",
    "# #variables\n",
    "# MLE_thetas = torch.ones(train_data.shape[1] - 1, requires_grad = True)\n",
    "# def neg_log_likelihood(x,y):\n",
    "#     theta_times_x = MLE_thetas * x\n",
    "#     log_likelihood = torch.sum(y * theta_times_x - torch.exp(theta_times_x))\n",
    "#     return -log_likelihood\n",
    "\n",
    "# def get_MLE(x, y):\n",
    "#     epoch = 10000\n",
    "#     optimizer = torch.optim.Adam([MLE_thetas])\n",
    "#     for i in range(epoch):\n",
    "\n",
    "#         optimizer.zero_grad()\n",
    "#         target = neg_log_likelihood(x,y)\n",
    "#         target.backward()\n",
    "#         optimizer.step()\n",
    "\n",
    "# get_MLE(train_data[:,:2],train_data[:,2:])"
   ]
  },
  {
   "cell_type": "code",
   "execution_count": 66,
   "metadata": {},
   "outputs": [
    {
     "data": {
      "text/plain": [
       "tensor([0.7945, 0.5504], requires_grad=True)"
      ]
     },
     "execution_count": 66,
     "metadata": {},
     "output_type": "execute_result"
    }
   ],
   "source": [
    "MLE_thetas"
   ]
  },
  {
   "cell_type": "code",
   "execution_count": 67,
   "metadata": {},
   "outputs": [],
   "source": [
    "#MLE\n",
    "\n",
    "#variables\n",
    "MLE_thetas = torch.ones(1, requires_grad = True)\n",
    "def neg_log_likelihood(x,y):\n",
    "    theta_times_x = MLE_thetas * x\n",
    "    log_likelihood = torch.sum(y * theta_times_x - torch.exp(theta_times_x))\n",
    "    return -log_likelihood\n",
    "\n",
    "def get_MLE(x, y):\n",
    "    epoch = 10000\n",
    "    optimizer = torch.optim.Adam([MLE_thetas])\n",
    "    for i in range(epoch):\n",
    "\n",
    "        optimizer.zero_grad()\n",
    "        target = neg_log_likelihood(x,y)\n",
    "        target.backward()\n",
    "        optimizer.step()\n",
    "\n",
    "get_MLE(train_data[:,:1],train_data[:,2:])"
   ]
  },
  {
   "cell_type": "code",
   "execution_count": 72,
   "metadata": {},
   "outputs": [],
   "source": [
    "res = pyro.distributions.Poisson(MLE_thetas)"
   ]
  },
  {
   "cell_type": "code",
   "execution_count": 79,
   "metadata": {},
   "outputs": [
    {
     "data": {
      "text/plain": [
       "tensor([1.])"
      ]
     },
     "execution_count": 79,
     "metadata": {},
     "output_type": "execute_result"
    }
   ],
   "source": [
    "res()"
   ]
  },
  {
   "cell_type": "code",
   "execution_count": null,
   "metadata": {},
   "outputs": [],
   "source": []
  }
 ],
 "metadata": {
  "kernelspec": {
   "display_name": "Python 3",
   "language": "python",
   "name": "python3"
  },
  "language_info": {
   "codemirror_mode": {
    "name": "ipython",
    "version": 3
   },
   "file_extension": ".py",
   "mimetype": "text/x-python",
   "name": "python",
   "nbconvert_exporter": "python",
   "pygments_lexer": "ipython3",
   "version": "3.7.3"
  }
 },
 "nbformat": 4,
 "nbformat_minor": 4
}
