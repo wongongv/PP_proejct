{
 "cells": [
  {
   "cell_type": "code",
   "execution_count": 1,
   "metadata": {},
   "outputs": [],
   "source": [
    "import json\n",
    "import pandas as pd\n",
    "import numpy as np"
   ]
  },
  {
   "cell_type": "code",
   "execution_count": 2,
   "metadata": {},
   "outputs": [],
   "source": [
    "# business = []\n",
    "# for line in open('./yelp_dataset/business.json', 'r'):\n",
    "#     business.append(json.loads(line))"
   ]
  },
  {
   "cell_type": "code",
   "execution_count": 3,
   "metadata": {},
   "outputs": [
    {
     "data": {
      "text/plain": [
       "192609"
      ]
     },
     "execution_count": 3,
     "metadata": {},
     "output_type": "execute_result"
    }
   ],
   "source": [
    "# len(business)"
   ]
  },
  {
   "cell_type": "code",
   "execution_count": 5,
   "metadata": {},
   "outputs": [],
   "source": [
    "# bus_json = {\"business\":business}\n",
    "# df = pd.DataFrame(bus_json['business'])"
   ]
  },
  {
   "cell_type": "code",
   "execution_count": 10,
   "metadata": {},
   "outputs": [],
   "source": [
    "# test = df['categories'].to_numpy()\n",
    "# number = set()\n",
    "# idxs = []\n",
    "# for i in range(len(df)):\n",
    "#     sen = df.iloc[i]\n",
    "#     if sen['categories'] is None:\n",
    "#         continue\n",
    "#     elif 'Restaurants' in sen['categories'] and 'Food' in sen['categories']:\n",
    "#         number.update(sen['categories'].split(\", \"))\n",
    "#         idxs.append(sen.name)\n",
    "    \n",
    "# rest_data = df.iloc[idxs]"
   ]
  },
  {
   "cell_type": "code",
   "execution_count": 13,
   "metadata": {},
   "outputs": [],
   "source": [
    "# cat_list = list(number)\n",
    "# cat_one_hot = np.zeros((len(rest_data),len(cat_list)))\n",
    "# for i in range(len(rest_data)):\n",
    "#     l = rest_data.iloc[i]\n",
    "#     c_col = l['categories']\n",
    "#     if c_col != None:\n",
    "#         cats = [c for c in c_col.split(', ')]\n",
    "#         if \"Handyman\" in cats:\n",
    "#             import pdb\n",
    "#             pdb.set_trace()\n",
    "#         for c in cats:\n",
    "#             cat_one_hot[i][cat_list.index(c)] = 1"
   ]
  },
  {
   "cell_type": "code",
   "execution_count": 48,
   "metadata": {},
   "outputs": [],
   "source": [
    "# cat_rest = dict()\n",
    "# for l in df['categories']:\n",
    "#     if l != None:\n",
    "#         cats = [c for c in l.split(', ')]\n",
    "#         if 'Restaurants' in cats and 'Food' in cats:\n",
    "#             for c in cats:\n",
    "#                 if c in cat_rest:\n",
    "#                     cat_rest[c]+= 1\n",
    "#                 else:\n",
    "#                     cat_rest[c] = 1"
   ]
  },
  {
   "cell_type": "code",
   "execution_count": 60,
   "metadata": {},
   "outputs": [],
   "source": [
    "# cat_rest_dedup = dict()\n",
    "# for i in range(len(df)):\n",
    "#     l = df.iloc[i]\n",
    "#     c_col = l['categories']\n",
    "#     if c_col != None:\n",
    "#         cats = [c for c in c_col.split(', ')]\n",
    "#         if 'Restaurants' in cats and 'Food' in cats:\n",
    "#             for c in cats:\n",
    "#                 if c in cat_rest_dedup:\n",
    "#                     cat_rest_dedup[c].add(i)\n",
    "#                 else:\n",
    "#                     cat_rest_dedup[c] = set()\n",
    "#                     cat_rest_dedup[c].add(i)"
   ]
  },
  {
   "cell_type": "code",
   "execution_count": 42,
   "metadata": {},
   "outputs": [],
   "source": [
    "class YelpData:\n",
    "    def __init__(self):\n",
    "        self.rest_data = None\n",
    "        self.categories = None\n",
    "        self.ratings = None\n",
    "        self.cat_one_hot = None\n",
    "        \n",
    "\n",
    "    def process(self):\n",
    "        # load json file to dataframe\n",
    "        business = []\n",
    "        for line in open('./yelp_dataset/business.json', 'r'):\n",
    "            business.append(json.loads(line))\n",
    "        bus_json = {\"business\":business}\n",
    "        df = pd.DataFrame(bus_json['business'])\n",
    "\n",
    "        # extract restaurants\n",
    "        number = set()\n",
    "        idxs = []\n",
    "        for i in range(len(df)):\n",
    "            sen = df.iloc[i]\n",
    "            if sen['categories'] is None:\n",
    "                continue\n",
    "            elif 'Restaurants' in sen['categories'] and 'Food' in sen['categories']:\n",
    "                number.update(sen['categories'].split(\", \"))\n",
    "                idxs.append(sen.name)\n",
    "        rest_data = df.iloc[idxs]\n",
    "        cat_list = list(number)\n",
    "\n",
    "        # one hot encoder\n",
    "        cat_one_hot = np.zeros((len(rest_data),len(cat_list)))\n",
    "        for i in range(len(rest_data)):\n",
    "            l = rest_data.iloc[i]\n",
    "            c_col = l['categories']\n",
    "            if c_col != None:\n",
    "                cats = [c for c in c_col.split(', ')]\n",
    "                if \"Handyman\" in cats:\n",
    "                    import pdb\n",
    "                    pdb.set_trace()\n",
    "                for c in cats:\n",
    "                    cat_one_hot[i][cat_list.index(c)] = 1\n",
    "\n",
    "        self.rest_data = rest_data\n",
    "        self.categories = cat_list\n",
    "        self.ratings = rest_data['stars']\n",
    "        self.cat_one_hot = cat_one_hot\n",
    "        \n",
    "    def add_bias(self):\n",
    "        cat_one_hot_bias = np.ones((self.cat_one_hot.shape[0],self.cat_one_hot.shape[1]+1))\n",
    "        for i in range(len(cat_one_hot_bias)):\n",
    "            encoded_cats = self.cat_one_hot[i]\n",
    "            cat_one_hot_bias[i][:len(encoded_cats)] = encoded_cats\n",
    "        return cat_one_hot_bias"
   ]
  },
  {
   "cell_type": "code",
   "execution_count": null,
   "metadata": {},
   "outputs": [],
   "source": [
    "# df = YelpData()\n",
    "# dt.process()\n",
    "# cat_one_hot_bias = dt.add_bias()"
   ]
  }
 ],
 "metadata": {
  "kernelspec": {
   "display_name": "Python 3",
   "language": "python",
   "name": "python3"
  },
  "language_info": {
   "codemirror_mode": {
    "name": "ipython",
    "version": 3
   },
   "file_extension": ".py",
   "mimetype": "text/x-python",
   "name": "python",
   "nbconvert_exporter": "python",
   "pygments_lexer": "ipython3",
   "version": "3.7.3"
  }
 },
 "nbformat": 4,
 "nbformat_minor": 4
}
